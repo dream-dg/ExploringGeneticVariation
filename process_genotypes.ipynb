{
 "cells": [
  {
   "cell_type": "code",
   "execution_count": 2,
   "metadata": {},
   "outputs": [],
   "source": [
    "import numpy as np\n",
    "import pandas as pd\n",
    "import gzip"
   ]
  },
  {
   "cell_type": "code",
   "execution_count": null,
   "metadata": {},
   "outputs": [],
   "source": [
    "# download data if needed\n",
    "chr_num = 2 # which chromosome's data to download\n",
    "!wget -P data/ http://ftp.1000genomes.ebi.ac.uk/vol1/ftp/release/20130502/ALL.chr{chrom_num}.phase3_shapeit2_mvncall_integrated_v5b.20130502.genotypes.vcf.gz"
   ]
  },
  {
   "cell_type": "code",
   "execution_count": 3,
   "metadata": {},
   "outputs": [
    {
     "name": "stdout",
     "output_type": "stream",
     "text": [
      "File opened!\n"
     ]
    }
   ],
   "source": [
    "# open the VCF file\n",
    "vcf_file = gzip.open('data/ALL.chr1.phase3_shapeit2_mvncall_integrated_v5b.20130502.genotypes.vcf.gz', 'rt')\n",
    "print('File opened!')"
   ]
  },
  {
   "cell_type": "code",
   "execution_count": null,
   "metadata": {},
   "outputs": [],
   "source": [
    "variant_count = 500000 # number of variants to use\n",
    "\n",
    "# extract the samples and variants\n",
    "samples = []\n",
    "variants = []\n",
    "\n",
    "for count, line in enumerate(vcf_file):\n",
    "    if count % 10000 == 0:\n",
    "        print(f'Lines processed: {count}')\n",
    "        \n",
    "    if line.startswith('#CHROM'): # get sample ids\n",
    "        samples = line.strip().split()[9:]\n",
    "    \n",
    "    elif not line.startswith('#'): # get genotypes at each variant\n",
    "        variants.append(line.strip().split())\n",
    "\n",
    "    if len(variants) == variant_count:\n",
    "        break\n",
    "\n",
    "vcf_file.close()\n",
    "print('Done extracting!')"
   ]
  },
  {
   "cell_type": "code",
   "execution_count": null,
   "metadata": {},
   "outputs": [],
   "source": [
    "variant_count = 500000 # number of variants to use\n",
    "\n",
    "# extract the samples and variants\n",
    "samples = []\n",
    "variants = []\n",
    "\n",
    "for count, line in enumerate(vcf_file):\n",
    "    if count % 10000 == 0:\n",
    "        print(f'Lines processed: {count}')\n",
    "        \n",
    "    if line.startswith('#CHROM'): # get sample ids\n",
    "        samples = line.strip().split()[9:]\n",
    "    \n",
    "    elif not line.startswith('#'): # get genotypes at each variant\n",
    "        variants.append(line.strip().split())\n",
    "\n",
    "    if len(variants) == variant_count:\n",
    "        break\n",
    "\n",
    "vcf_file.close()\n",
    "print('Done extracting!')"
   ]
  },
  {
   "cell_type": "code",
   "execution_count": null,
   "metadata": {},
   "outputs": [],
   "source": [
    "\"\"\"\n",
    "Create matrix containing a numeric representation of genotypes for each individual at each variant site\n",
    "Genotype of 0: Homozygous reference genotype, both alleles at the variant site are identical to the reference allele\n",
    "Genotype of 1: Heterozygous genotype, only one allele at the variant site is identical to the reference allele\n",
    "Genotype of 2: Homozygous alternate genotype, both alleles at the variant site are different from the reference allele\n",
    "\"\"\"\n",
    "genotypes = np.zeros((len(samples), len(variants)), dtype=np.float32)\n",
    "for i, variant in enumerate(variants):\n",
    "    for j in range(len(samples)):\n",
    "        call = variant[9+j].split(':')[0]\n",
    "        if call == './.' or call == './. ./.': # missing or invalid genotype at variant site\n",
    "            print(f'Skipping sample {j} for variant {i} due to missing call: {call}')\n",
    "            genotypes[j, i] = np.nan\n",
    "        else:\n",
    "            alleles = call.split('|')\n",
    "            genotypes[j, i] = sum(map(int, alleles))\n",
    "\n",
    "# filter out samples with missing/invalid genotypes at any variant site\n",
    "genotypes = genotypes[~np.isnan(genotypes).any(axis=1), :]\n",
    "\n",
    "print('Matrix created!')"
   ]
  },
  {
   "cell_type": "code",
   "execution_count": null,
   "metadata": {},
   "outputs": [],
   "source": [
    "# dimensions of genotypes matrix\n",
    "print('Genotypes matrix shape:', genotypes.shape)\n",
    "\n",
    "# inspect subset of matrix values\n",
    "print('Subset of matrix values:')\n",
    "print(genotypes[:20, :20])\n",
    "\n",
    "# save genotypes matrix and samples to use in pca.ipynb\n",
    "np.save(f'data/chr{chr_num}_genotypes{variant_count}.npy', genotypes)\n",
    "np.save('data/samples', samples)"
   ]
  }
 ],
 "metadata": {
  "kernelspec": {
   "display_name": "base",
   "language": "python",
   "name": "python3"
  },
  "language_info": {
   "codemirror_mode": {
    "name": "ipython",
    "version": 3
   },
   "file_extension": ".py",
   "mimetype": "text/x-python",
   "name": "python",
   "nbconvert_exporter": "python",
   "pygments_lexer": "ipython3",
   "version": "3.10.9"
  },
  "orig_nbformat": 4
 },
 "nbformat": 4,
 "nbformat_minor": 2
}
