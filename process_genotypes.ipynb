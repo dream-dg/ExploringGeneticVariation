{
 "cells": [
  {
   "cell_type": "code",
   "execution_count": 14,
   "metadata": {},
   "outputs": [],
   "source": [
    "import cyvcf2\n",
    "import numpy as np"
   ]
  },
  {
   "cell_type": "code",
   "execution_count": null,
   "metadata": {},
   "outputs": [],
   "source": [
    "# download data if needed\n",
    "chr_num = 1 # which chromosome's data to download\n",
    "!wget -P data/ http://ftp.1000genomes.ebi.ac.uk/vol1/ftp/release/20130502/ALL.chr1.phase3_shapeit2_mvncall_integrated_v5b.20130502.genotypes.vcf.gz"
   ]
  },
  {
   "cell_type": "code",
   "execution_count": null,
   "metadata": {},
   "outputs": [],
   "source": [
    "variant_count = 6468094  # number of variants to use\n",
    "\n",
    "# extract the samples and variants\n",
    "variants = np.empty((variant_count,), dtype=object)\n",
    "\n",
    "variant_index = 0  # index for the variants array\n",
    "\n",
    "vcf_file = cyvcf2.VCF('data/ALL.chr1.phase3_shapeit2_mvncall_integrated_v5b.20130502.genotypes.vcf.gz')\n",
    "samples = vcf_file.samples\n",
    "\n",
    "for count, variant in enumerate(vcf_file):\n",
    "    if count % 10000 == 0:\n",
    "        print(f'Variants processed: {count}')\n",
    "\n",
    "    variants[variant_index] = variant\n",
    "    variant_index += 1\n",
    "\n",
    "vcf_file.close()\n",
    "print('Done extracting!')"
   ]
  },
  {
   "cell_type": "code",
   "execution_count": 11,
   "metadata": {},
   "outputs": [
    {
     "name": "stdout",
     "output_type": "stream",
     "text": [
      "Matrix created!\n"
     ]
    }
   ],
   "source": [
    "\"\"\"\n",
    "Create matrix containing a numeric representation of genotypes for each individual at each variant site\n",
    "Genotype of 0: Homozygous reference genotype, both alleles at the variant site are identical to the reference allele\n",
    "Genotype of 1: Heterozygous genotype, only one allele at the variant site is identical to the reference allele\n",
    "Genotype of 2: Homozygous alternate genotype, both alleles at the variant site are different from the reference allele\n",
    "\"\"\"\n",
    "genotypes = np.zeros((len(samples), len(variants)), dtype=np.float32)\n",
    "for i, variant in enumerate(variants):\n",
    "    variant = str(variant).strip().split()\n",
    "    for j in range(len(samples)):\n",
    "        call = variant[9+j].split(':')[0]\n",
    "        if call == '.|.' or call == '.|. .|.': # missing or invalid genotype at variant site\n",
    "            print(f'Skipping sample {j} for variant {i} due to missing call: {call}')\n",
    "            genotypes[j, i] = np.nan\n",
    "        else:\n",
    "            alleles = call.split('|')\n",
    "            genotypes[j, i] = sum(map(int, alleles))\n",
    "\n",
    "# filter out samples with missing/invalid genotypes at any variant site\n",
    "genotypes = genotypes[~np.isnan(genotypes).any(axis=1), :]\n",
    "\n",
    "print('Matrix created!') # takes approx 4.4hrs to process whole chromosome"
   ]
  },
  {
   "cell_type": "code",
   "execution_count": 19,
   "metadata": {},
   "outputs": [
    {
     "name": "stdout",
     "output_type": "stream",
     "text": [
      "Genotypes matrix shape: (2504, 6468094)\n",
      "Subset of matrix values:\n",
      "[[1. 0. 1. 0. 0. 0. 0. 0. 0. 2. 0. 0. 0. 0. 0. 0. 0. 0. 0. 0.]\n",
      " [1. 0. 1. 0. 0. 0. 0. 0. 0. 2. 0. 0. 0. 0. 0. 1. 1. 1. 0. 0.]\n",
      " [1. 0. 1. 0. 0. 0. 0. 0. 0. 2. 0. 0. 0. 0. 0. 0. 0. 0. 0. 0.]\n",
      " [1. 0. 1. 0. 0. 0. 0. 0. 0. 2. 0. 0. 0. 0. 0. 0. 0. 0. 0. 0.]\n",
      " [0. 0. 1. 0. 0. 0. 0. 0. 0. 2. 0. 0. 0. 0. 0. 0. 1. 1. 0. 0.]\n",
      " [1. 0. 1. 0. 0. 0. 0. 0. 0. 2. 0. 1. 1. 0. 0. 0. 0. 0. 0. 0.]\n",
      " [1. 0. 1. 0. 0. 0. 0. 0. 0. 2. 0. 1. 1. 0. 0. 0. 0. 0. 0. 0.]\n",
      " [1. 0. 0. 0. 0. 0. 0. 0. 0. 2. 0. 0. 0. 0. 0. 0. 1. 1. 0. 0.]\n",
      " [1. 0. 1. 0. 0. 0. 0. 0. 0. 2. 0. 0. 0. 0. 0. 0. 0. 0. 0. 0.]\n",
      " [0. 0. 0. 0. 0. 0. 0. 0. 0. 2. 0. 0. 0. 0. 0. 0. 1. 1. 0. 0.]\n",
      " [0. 0. 1. 0. 0. 0. 0. 0. 0. 2. 0. 0. 0. 0. 0. 1. 0. 0. 0. 0.]\n",
      " [0. 0. 1. 0. 0. 0. 0. 0. 0. 2. 0. 0. 0. 0. 0. 0. 0. 0. 0. 0.]\n",
      " [0. 0. 1. 0. 0. 0. 0. 0. 0. 2. 0. 0. 0. 0. 0. 0. 0. 0. 0. 0.]\n",
      " [0. 0. 1. 0. 0. 0. 0. 0. 0. 2. 0. 0. 0. 0. 0. 0. 1. 1. 0. 0.]\n",
      " [0. 0. 1. 0. 0. 0. 0. 0. 0. 2. 0. 0. 0. 0. 0. 0. 0. 0. 0. 0.]\n",
      " [0. 0. 1. 0. 0. 0. 0. 0. 0. 2. 0. 0. 0. 0. 0. 0. 0. 0. 0. 0.]\n",
      " [1. 0. 2. 0. 0. 0. 0. 0. 0. 2. 0. 0. 0. 0. 0. 0. 0. 0. 0. 0.]\n",
      " [1. 0. 1. 0. 0. 0. 0. 0. 0. 2. 0. 0. 0. 0. 0. 0. 0. 0. 0. 0.]\n",
      " [0. 0. 1. 0. 0. 0. 0. 0. 0. 2. 0. 0. 0. 0. 0. 1. 0. 0. 0. 0.]\n",
      " [0. 0. 0. 0. 0. 0. 0. 0. 0. 2. 0. 0. 0. 0. 0. 0. 0. 0. 0. 0.]]\n"
     ]
    }
   ],
   "source": [
    "chr_num = 1\n",
    "\n",
    "# dimensions of genotypes matrix\n",
    "print('Genotypes matrix shape:', genotypes.shape)\n",
    "\n",
    "# inspect subset of matrix values\n",
    "print('Subset of matrix values:')\n",
    "print(genotypes[:20, :20])\n",
    "\n",
    "# save genotypes matrix and samples to use in pca.ipynb\n",
    "np.savez_compressed(f'data/chr{chr_num}_genotypes{variant_count}.npy', genotypes)\n",
    "np.save('data/samples', samples)"
   ]
  }
 ],
 "metadata": {
  "kernelspec": {
   "display_name": "base",
   "language": "python",
   "name": "python3"
  },
  "language_info": {
   "codemirror_mode": {
    "name": "ipython",
    "version": 3
   },
   "file_extension": ".py",
   "mimetype": "text/x-python",
   "name": "python",
   "nbconvert_exporter": "python",
   "pygments_lexer": "ipython3",
   "version": "3.10.9"
  },
  "orig_nbformat": 4
 },
 "nbformat": 4,
 "nbformat_minor": 2
}
