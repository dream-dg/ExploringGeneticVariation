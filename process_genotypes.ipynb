{
 "cells": [
  {
   "cell_type": "code",
   "execution_count": 1,
   "metadata": {},
   "outputs": [],
   "source": [
    "import numpy as np\n",
    "import pandas as pd\n",
    "import gzip"
   ]
  },
  {
   "cell_type": "code",
   "execution_count": null,
   "metadata": {},
   "outputs": [],
   "source": [
    "# download data if needed\n",
    "chr_num = 2 # which chromosome's data to download\n",
    "!wget -P data/ http://ftp.1000genomes.ebi.ac.uk/vol1/ftp/release/20130502/ALL.chr{chrom_num}.phase3_shapeit2_mvncall_integrated_v5b.20130502.genotypes.vcf.gz"
   ]
  },
  {
   "cell_type": "code",
   "execution_count": 2,
   "metadata": {},
   "outputs": [
    {
     "name": "stdout",
     "output_type": "stream",
     "text": [
      "File opened!\n"
     ]
    }
   ],
   "source": [
    "# open the VCF file\n",
    "vcf_file = gzip.open('data/ALL.chr1.phase3_shapeit2_mvncall_integrated_v5b.20130502.genotypes.vcf.gz', 'rt')\n",
    "print('File opened!')"
   ]
  },
  {
   "cell_type": "code",
   "execution_count": 3,
   "metadata": {},
   "outputs": [
    {
     "name": "stdout",
     "output_type": "stream",
     "text": [
      "Lines processed: 0\n",
      "Lines processed: 10000\n",
      "Lines processed: 20000\n",
      "Lines processed: 30000\n",
      "Lines processed: 40000\n",
      "Lines processed: 50000\n",
      "Lines processed: 60000\n",
      "Lines processed: 70000\n",
      "Lines processed: 80000\n",
      "Lines processed: 90000\n",
      "Lines processed: 100000\n",
      "Lines processed: 110000\n",
      "Lines processed: 120000\n",
      "Lines processed: 130000\n",
      "Lines processed: 140000\n",
      "Lines processed: 150000\n",
      "Lines processed: 160000\n",
      "Lines processed: 170000\n",
      "Lines processed: 180000\n",
      "Lines processed: 190000\n",
      "Lines processed: 200000\n",
      "Lines processed: 210000\n",
      "Lines processed: 220000\n",
      "Lines processed: 230000\n",
      "Lines processed: 240000\n",
      "Lines processed: 250000\n",
      "Lines processed: 260000\n",
      "Lines processed: 270000\n",
      "Lines processed: 280000\n",
      "Lines processed: 290000\n",
      "Lines processed: 300000\n",
      "Lines processed: 310000\n",
      "Lines processed: 320000\n",
      "Lines processed: 330000\n",
      "Lines processed: 340000\n",
      "Lines processed: 350000\n",
      "Lines processed: 360000\n",
      "Lines processed: 370000\n",
      "Lines processed: 380000\n",
      "Lines processed: 390000\n",
      "Lines processed: 400000\n",
      "Lines processed: 410000\n",
      "Lines processed: 420000\n",
      "Lines processed: 430000\n",
      "Lines processed: 440000\n",
      "Lines processed: 450000\n",
      "Lines processed: 460000\n",
      "Lines processed: 470000\n",
      "Lines processed: 480000\n",
      "Lines processed: 490000\n",
      "Lines processed: 500000\n",
      "Lines processed: 510000\n",
      "Lines processed: 520000\n",
      "Lines processed: 530000\n",
      "Lines processed: 540000\n",
      "Lines processed: 550000\n",
      "Lines processed: 560000\n",
      "Lines processed: 570000\n",
      "Lines processed: 580000\n",
      "Lines processed: 590000\n",
      "Lines processed: 600000\n",
      "Lines processed: 610000\n",
      "Lines processed: 620000\n",
      "Lines processed: 630000\n",
      "Lines processed: 640000\n",
      "Lines processed: 650000\n",
      "Lines processed: 660000\n",
      "Lines processed: 670000\n",
      "Lines processed: 680000\n",
      "Lines processed: 690000\n",
      "Lines processed: 700000\n",
      "Lines processed: 710000\n",
      "Lines processed: 720000\n",
      "Lines processed: 730000\n",
      "Lines processed: 740000\n",
      "Lines processed: 750000\n",
      "Lines processed: 760000\n",
      "Lines processed: 770000\n",
      "Lines processed: 780000\n",
      "Lines processed: 790000\n",
      "Lines processed: 800000\n",
      "Lines processed: 810000\n",
      "Lines processed: 820000\n",
      "Lines processed: 830000\n",
      "Lines processed: 840000\n",
      "Lines processed: 850000\n",
      "Lines processed: 860000\n",
      "Lines processed: 870000\n",
      "Lines processed: 880000\n",
      "Lines processed: 890000\n",
      "Lines processed: 900000\n",
      "Lines processed: 910000\n",
      "Lines processed: 920000\n",
      "Lines processed: 930000\n",
      "Lines processed: 940000\n",
      "Lines processed: 950000\n",
      "Lines processed: 960000\n",
      "Lines processed: 970000\n",
      "Lines processed: 980000\n",
      "Lines processed: 990000\n",
      "Lines processed: 1000000\n",
      "Done extracting!\n"
     ]
    }
   ],
   "source": [
    "variant_count = 1000000 # number of variants to use\n",
    "\n",
    "# extract the samples and variants\n",
    "samples = []\n",
    "variants = []\n",
    "\n",
    "for count, line in enumerate(vcf_file):\n",
    "    if count % 10000 == 0:\n",
    "        print(f'Lines processed: {count}')\n",
    "        \n",
    "    if line.startswith('#CHROM'): # get sample ids\n",
    "        samples = line.strip().split()[9:]\n",
    "    \n",
    "    elif not line.startswith('#'): # get genotypes at each variant\n",
    "        variants.append(line.strip().split())\n",
    "\n",
    "    if len(variants) == variant_count:\n",
    "        break\n",
    "\n",
    "vcf_file.close()\n",
    "print('Done extracting!')"
   ]
  },
  {
   "cell_type": "code",
   "execution_count": 4,
   "metadata": {},
   "outputs": [
    {
     "name": "stdout",
     "output_type": "stream",
     "text": [
      "Matrix created!\n"
     ]
    }
   ],
   "source": [
    "\"\"\"\n",
    "Create matrix containing a numeric representation of genotypes for each individual at each variant site\n",
    "Genotype of 0: Homozygous reference genotype, both alleles at the variant site are identical to the reference allele\n",
    "Genotype of 1: Heterozygous genotype, only one allele at the variant site is identical to the reference allele\n",
    "Genotype of 2: Homozygous alternate genotype, both alleles at the variant site are different from the reference allele\n",
    "\"\"\"\n",
    "genotypes = np.zeros((len(samples), len(variants)), dtype=np.float32)\n",
    "for i, variant in enumerate(variants):\n",
    "    for j in range(len(samples)):\n",
    "        call = variant[9+j].split(':')[0]\n",
    "        if call == '.|.' or call == '.|. .|.': # missing or invalid genotype at variant site\n",
    "            print(f'Skipping sample {j} for variant {i} due to missing call: {call}')\n",
    "            genotypes[j, i] = np.nan\n",
    "        else:\n",
    "            alleles = call.split('|')\n",
    "            genotypes[j, i] = sum(map(int, alleles))\n",
    "\n",
    "# filter out samples with missing/invalid genotypes at any variant site\n",
    "genotypes = genotypes[~np.isnan(genotypes).any(axis=1), :]\n",
    "\n",
    "print('Matrix created!')"
   ]
  },
  {
   "cell_type": "code",
   "execution_count": 6,
   "metadata": {},
   "outputs": [
    {
     "name": "stdout",
     "output_type": "stream",
     "text": [
      "Genotypes matrix shape: (2504, 1000000)\n",
      "Subset of matrix values:\n",
      "[[1. 0. 1. 0. 0. 0. 0. 0. 0. 2. 0. 0. 0. 0. 0. 0. 0. 0. 0. 0.]\n",
      " [1. 0. 1. 0. 0. 0. 0. 0. 0. 2. 0. 0. 0. 0. 0. 1. 1. 1. 0. 0.]\n",
      " [1. 0. 1. 0. 0. 0. 0. 0. 0. 2. 0. 0. 0. 0. 0. 0. 0. 0. 0. 0.]\n",
      " [1. 0. 1. 0. 0. 0. 0. 0. 0. 2. 0. 0. 0. 0. 0. 0. 0. 0. 0. 0.]\n",
      " [0. 0. 1. 0. 0. 0. 0. 0. 0. 2. 0. 0. 0. 0. 0. 0. 1. 1. 0. 0.]\n",
      " [1. 0. 1. 0. 0. 0. 0. 0. 0. 2. 0. 1. 1. 0. 0. 0. 0. 0. 0. 0.]\n",
      " [1. 0. 1. 0. 0. 0. 0. 0. 0. 2. 0. 1. 1. 0. 0. 0. 0. 0. 0. 0.]\n",
      " [1. 0. 0. 0. 0. 0. 0. 0. 0. 2. 0. 0. 0. 0. 0. 0. 1. 1. 0. 0.]\n",
      " [1. 0. 1. 0. 0. 0. 0. 0. 0. 2. 0. 0. 0. 0. 0. 0. 0. 0. 0. 0.]\n",
      " [0. 0. 0. 0. 0. 0. 0. 0. 0. 2. 0. 0. 0. 0. 0. 0. 1. 1. 0. 0.]\n",
      " [0. 0. 1. 0. 0. 0. 0. 0. 0. 2. 0. 0. 0. 0. 0. 1. 0. 0. 0. 0.]\n",
      " [0. 0. 1. 0. 0. 0. 0. 0. 0. 2. 0. 0. 0. 0. 0. 0. 0. 0. 0. 0.]\n",
      " [0. 0. 1. 0. 0. 0. 0. 0. 0. 2. 0. 0. 0. 0. 0. 0. 0. 0. 0. 0.]\n",
      " [0. 0. 1. 0. 0. 0. 0. 0. 0. 2. 0. 0. 0. 0. 0. 0. 1. 1. 0. 0.]\n",
      " [0. 0. 1. 0. 0. 0. 0. 0. 0. 2. 0. 0. 0. 0. 0. 0. 0. 0. 0. 0.]\n",
      " [0. 0. 1. 0. 0. 0. 0. 0. 0. 2. 0. 0. 0. 0. 0. 0. 0. 0. 0. 0.]\n",
      " [1. 0. 2. 0. 0. 0. 0. 0. 0. 2. 0. 0. 0. 0. 0. 0. 0. 0. 0. 0.]\n",
      " [1. 0. 1. 0. 0. 0. 0. 0. 0. 2. 0. 0. 0. 0. 0. 0. 0. 0. 0. 0.]\n",
      " [0. 0. 1. 0. 0. 0. 0. 0. 0. 2. 0. 0. 0. 0. 0. 1. 0. 0. 0. 0.]\n",
      " [0. 0. 0. 0. 0. 0. 0. 0. 0. 2. 0. 0. 0. 0. 0. 0. 0. 0. 0. 0.]]\n"
     ]
    }
   ],
   "source": [
    "chr_num = 1\n",
    "\n",
    "# dimensions of genotypes matrix\n",
    "print('Genotypes matrix shape:', genotypes.shape)\n",
    "\n",
    "# inspect subset of matrix values\n",
    "print('Subset of matrix values:')\n",
    "print(genotypes[:20, :20])\n",
    "\n",
    "# save genotypes matrix and samples to use in pca.ipynb\n",
    "np.save(f'data/chr{chr_num}_genotypes{variant_count}.npy', genotypes)\n",
    "np.save('data/samples', samples)"
   ]
  }
 ],
 "metadata": {
  "kernelspec": {
   "display_name": "base",
   "language": "python",
   "name": "python3"
  },
  "language_info": {
   "codemirror_mode": {
    "name": "ipython",
    "version": 3
   },
   "file_extension": ".py",
   "mimetype": "text/x-python",
   "name": "python",
   "nbconvert_exporter": "python",
   "pygments_lexer": "ipython3",
   "version": "3.10.9"
  },
  "orig_nbformat": 4
 },
 "nbformat": 4,
 "nbformat_minor": 2
}
