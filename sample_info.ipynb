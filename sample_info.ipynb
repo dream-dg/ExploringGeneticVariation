{
 "cells": [
  {
   "cell_type": "code",
   "execution_count": 1,
   "metadata": {},
   "outputs": [],
   "source": [
    "import numpy as np\n",
    "import pandas as pd\n",
    "import pickle"
   ]
  },
  {
   "cell_type": "code",
   "execution_count": null,
   "metadata": {},
   "outputs": [],
   "source": [
    "# download sample information if needed\n",
    "!wget -P data/ http://ftp.1000genomes.ebi.ac.uk/vol1/ftp/release/20130502/integrated_call_samples_v3.20130502.ALL.panel"
   ]
  },
  {
   "cell_type": "code",
   "execution_count": 2,
   "metadata": {},
   "outputs": [
    {
     "name": "stdout",
     "output_type": "stream",
     "text": [
      "Number of samples: 2504\n"
     ]
    }
   ],
   "source": [
    "# load samples list and genotypes matrix\n",
    "samples = np.load('data/samples.npy')\n",
    "print('Number of samples:', len(samples))"
   ]
  },
  {
   "cell_type": "code",
   "execution_count": 5,
   "metadata": {},
   "outputs": [],
   "source": [
    "sample_info = {} # key = sample_id, value = [population, super_population, gender]\n",
    "\n",
    "# read file with demographic info for each sample\n",
    "with open('data/integrated_call_samples_v3.20130502.ALL.panel', 'r') as file:\n",
    "    \n",
    "    next(file) # skip header\n",
    "\n",
    "    for line in file: # extract info and add to dictionary\n",
    "        columns = line.strip().split('\\t')\n",
    "        sample_info[columns[0]] = [columns[1], columns[2], columns[3]]\n",
    "\n",
    "# save the sample_info dictionary to a file using pickle\n",
    "with open('data/sample_info.pkl', 'wb') as file:\n",
    "    pickle.dump(sample_info, file)"
   ]
  },
  {
   "cell_type": "code",
   "execution_count": 9,
   "metadata": {},
   "outputs": [],
   "source": [
    "# create a dataframe for population counts\n",
    "populations = [sample_info.get(sample_id, [None, None, None])[0] for sample_id in samples]\n",
    "population_counts = pd.DataFrame({'Population': populations}).value_counts().reset_index()\n",
    "population_counts.columns = ['Population', 'Count']\n",
    "population_counts = population_counts.sort_values(by='Population')\n",
    "\n",
    "# create a dataframe for superpopulation counts\n",
    "superpopulations = [sample_info.get(sample_id, [None, None, None])[1] for sample_id in samples]\n",
    "superpopulation_counts = pd.DataFrame({'Superpopulation': superpopulations}).value_counts().reset_index()\n",
    "superpopulation_counts.columns = ['Superpopulation', 'Count']\n",
    "superpopulation_counts = superpopulation_counts.sort_values(by='Superpopulation')\n",
    "\n",
    "# create a dataframe for gender counts\n",
    "genders = [sample_info.get(sample_id, [None, None, None])[2] for sample_id in samples]\n",
    "gender_counts = pd.DataFrame({'Gender': genders}).value_counts().reset_index()\n",
    "gender_counts.columns = ['Gender', 'Count']\n",
    "gender_counts = gender_counts.sort_values(by='Gender')\n",
    "\n",
    "# export counts to csv\n",
    "population_counts.to_csv(f'data/csvs/population_counts.csv', index=False)\n",
    "superpopulation_counts.to_csv(f'data/csvs/superpopulation_counts.csv', index=False)\n",
    "gender_counts.to_csv(f'data/csvs/gender_counts.csv', index=False)"
   ]
  },
  {
   "cell_type": "code",
   "execution_count": 4,
   "metadata": {},
   "outputs": [],
   "source": [
    "# define colors for each superpopulation\n",
    "superpopulation_colors = {\n",
    "    'AFR': 'red',\n",
    "    'AMR': 'blue',\n",
    "    'EAS': 'green',\n",
    "    'EUR': 'orange',\n",
    "    'SAS': 'purple',\n",
    "}\n",
    "\n",
    "# define colors for each subpopulation\n",
    "subpopulation_colors = {\n",
    "    'ACB':'#ff7f0e',\n",
    "    'ASW':'#2ca02c',\n",
    "    'BEB':'#d62728',\n",
    "    'CDX':'#9467bd',\n",
    "    'CEU':'#8c564b',\n",
    "    'CHB':'#e377c2',\n",
    "    'CHS':'#7f7f7f',\n",
    "    'CLM':'#bcbd22',\n",
    "    'ESN':'#6b6ecf',\n",
    "    'FIN':'#9edae5',\n",
    "    'GBR':'#dbdb8d',\n",
    "    'GIH':'#c7c7c7',\n",
    "    'GWD':'#f7b6d2',\n",
    "    'IBS':'#c49c94',\n",
    "    'ITU':'#f1b0b0',\n",
    "    'JPT':'#e7ba52',\n",
    "    'KHV':'#7b4173',\n",
    "    'LWK':'#a55194',\n",
    "    'MSL':'#843c39',\n",
    "    'MXL':'#5254a3',\n",
    "    'PEL':'#17becf',\n",
    "    'PJL':'#9c9ede',\n",
    "    'PUR':'#637939',\n",
    "    'STU':'#b5cf6b',\n",
    "    'TSI':'#1f77b4',\n",
    "    'YRI':'#d6616b',\n",
    "}\n",
    "\n",
    "# save the color dictionaries to files using pickle\n",
    "with open('data/superpopulation_colors.pkl', 'wb') as file:\n",
    "    pickle.dump(superpopulation_colors, file)\n",
    "with open('data/subpopulation_colors.pkl', 'wb') as file:\n",
    "    pickle.dump(subpopulation_colors, file)"
   ]
  },
  {
   "attachments": {},
   "cell_type": "markdown",
   "metadata": {},
   "source": [
    "| Population                                | Superpopulation                         | Color    |\n",
    "|-------------------------------------------|-----------------------------------------|----------|\n",
    "| ACB (African Caribbean in Barbados)        | AFR (African)                           | #ff7f0e  |\n",
    "| ASW (African Ancestry in Southwest USA)    | AFR (African)                           | #2ca02c  |\n",
    "| BEB (Bengali in Bangladesh)                | SAS (South Asian)                       | #d62728  |\n",
    "| CDX (Chinese Dai in Xishuangbanna, China)  | EAS (East Asian)                        | #9467bd  |\n",
    "| CEU (Utah Residents with Northern and Western European Ancestry) | EUR (European)         | #8c564b  |\n",
    "| CHB (Han Chinese in Beijing, China)        | EAS (East Asian)                         | #e377c2  |\n",
    "| CHS (Southern Han Chinese)                 | EAS (East Asian)                         | #7f7f7f  |\n",
    "| CLM (Colombian in Medellin, Colombia)      | AMR (Ad Mixed American)                  | #bcbd22  |\n",
    "| ESN (Esan in Nigeria)                      | AFR (African)                            | #1f77b4  |\n",
    "| FIN (Finnish in Finland)                   | EUR (European)                           | #9edae5  |\n",
    "| GBR (British in England and Scotland)      | EUR (European)                           | #dbdb8d  |\n",
    "| GIH (Gujarati Indian in Houston, USA)      | SAS (South Asian)                        | #c7c7c7  |\n",
    "| GWD (Gambian in Western Divisions in the Gambia) | AFR (African)                         | #f7b6d2  |\n",
    "| IBS (Iberian Population in Spain)          | EUR (European)                           | #c49c94  |\n",
    "| ITU (Indian Telugu in the UK)              | SAS (South Asian)                        | #f1b0b0  |\n",
    "| JPT (Japanese in Tokyo, Japan)             | EAS (East Asian)                         | #e7ba52  |\n",
    "| KHV (Kinh in Ho Chi Minh City, Vietnam)    | EAS (East Asian)                         | #7b4173  |\n",
    "| LWK (Luhya in Webuye, Kenya)               | AFR (African)                            | #a55194  |\n",
    "| MSL (Mende in Sierra Leone)                | AFR (African)                            | #843c39  |\n",
    "| MXL (Mexican Ancestry from Los Angeles, USA) | AMR (Ad Mixed American)                | #5254a3  |\n",
    "| PEL (Peruvian in Lima, Peru)               | AMR (Ad Mixed American)                  | #6b6ecf  |\n",
    "| PJL (Punjabi in Lahore, Pakistan)          | SAS (South Asian)                        | #9c9ede  |\n",
    "| PUR (Puerto Rican in Puerto Rico)          | AMR (Ad Mixed American)                  | #637939  |\n",
    "| STU (Sri Lankan Tamil in the UK)           | SAS (South Asian)                        | #b5cf6b  |\n",
    "| TSI (Toscani in Italy)                     | EUR (European)                           | #17becf  |\n",
    "| YRI (Yoruba in Ibadan, Nigeria)            | AFR (African)                            | #ff9896  |\n"
   ]
  }
 ],
 "metadata": {
  "kernelspec": {
   "display_name": "base",
   "language": "python",
   "name": "python3"
  },
  "language_info": {
   "codemirror_mode": {
    "name": "ipython",
    "version": 3
   },
   "file_extension": ".py",
   "mimetype": "text/x-python",
   "name": "python",
   "nbconvert_exporter": "python",
   "pygments_lexer": "ipython3",
   "version": "3.10.9"
  },
  "orig_nbformat": 4
 },
 "nbformat": 4,
 "nbformat_minor": 2
}
